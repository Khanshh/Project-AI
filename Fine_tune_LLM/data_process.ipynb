{
 "cells": [
  {
   "cell_type": "code",
   "execution_count": 37,
   "id": "dbec13e3",
   "metadata": {},
   "outputs": [],
   "source": [
    "# imports\n",
    "\n",
    "import os\n",
    "from dotenv import load_dotenv\n",
    "from huggingface_hub import login\n",
    "from datasets import load_dataset, Dataset, DatasetDict\n",
    "import matplotlib.pyplot as plt\n",
    "%matplotlib inline"
   ]
  },
  {
   "cell_type": "code",
   "execution_count": null,
   "id": "753a53a7",
   "metadata": {},
   "outputs": [],
   "source": [
    "# environment\n",
    "load_dotenv(override=True)\n",
    "\n",
    "# Get the HF token from environment variables\n",
    "hf_token = os.getenv('HF_TOKEN')\n",
    "\n",
    "# Log in to Hugging Face\n",
    "login(hf_token, add_to_git_credential=True)"
   ]
  },
  {
   "cell_type": "code",
   "execution_count": null,
   "id": "8ad35945",
   "metadata": {},
   "outputs": [],
   "source": [
    "# Load in our dataset\n",
    "rawdata = load_dataset(\"cogsci13/Amazon-Reviews-2023-Books-Meta\", split=\"full\", trust_remote_code=True)\n",
    "#print(dataset[0])"
   ]
  },
  {
   "cell_type": "markdown",
   "id": "bbf3483a",
   "metadata": {},
   "source": [
    "# Data Exploration"
   ]
  },
  {
   "cell_type": "code",
   "execution_count": null,
   "id": "8dd38bf8",
   "metadata": {},
   "outputs": [],
   "source": [
    "len(rawdata)"
   ]
  },
  {
   "cell_type": "code",
   "execution_count": null,
   "id": "2cd084ab",
   "metadata": {},
   "outputs": [],
   "source": [
    "print(rawdata[0])"
   ]
  },
  {
   "cell_type": "code",
   "execution_count": null,
   "id": "c80c7a7e",
   "metadata": {},
   "outputs": [],
   "source": [
    "# Investigate a particular datapoint\n",
    "datapoint = rawdata[1]\n",
    "datapoint"
   ]
  },
  {
   "cell_type": "code",
   "execution_count": null,
   "id": "5865ed35",
   "metadata": {},
   "outputs": [],
   "source": [
    "# Investigate\n",
    "datapoint = rawdata[5]\n",
    "print(datapoint[\"title\"])\n",
    "print(datapoint[\"description\"])\n",
    "print(datapoint[\"features\"])\n",
    "print(datapoint[\"details\"])\n",
    "print(datapoint[\"price\"])"
   ]
  },
  {
   "cell_type": "code",
   "execution_count": null,
   "id": "abe77426",
   "metadata": {},
   "outputs": [],
   "source": [
    "# How many have prices?\n",
    "\n",
    "prices = 0\n",
    "for datapoint in rawdata:\n",
    "    try:\n",
    "        price = float(datapoint[\"price\"])\n",
    "        if price > 0:\n",
    "            prices += 1\n",
    "    except ValueError as e:\n",
    "        pass\n",
    "\n",
    "print(f\"There are {prices:,} with prices which is {prices/len(rawdata)*100:,.1f}%\")"
   ]
  },
  {
   "cell_type": "code",
   "execution_count": null,
   "id": "e57ccfb4",
   "metadata": {},
   "outputs": [],
   "source": [
    "#Filter only records with prices\n",
    "\n",
    "filtered = (dp for dp in rawdata if \"price\" in dp and isinstance(dp[\"price\"], str) and dp[\"price\"].replace('.', '', 1).isdigit() and float(dp[\"price\"]) > 0)"
   ]
  },
  {
   "cell_type": "code",
   "execution_count": null,
   "id": "cca873bb",
   "metadata": {},
   "outputs": [],
   "source": [
    "# Convert a sample of filtered data to in-memory dataset\n",
    "sampled_data = []\n",
    "for i, dp in enumerate(filtered):\n",
    "    if i >= 100000:  # pick a reasonable sample size, e.g. 10k\n",
    "        break\n",
    "    sampled_data.append(dp)\n",
    "\n",
    "dataset = Dataset.from_list(sampled_data)\n",
    "print(f\"Loaded {len(dataset):,} examples with prices.\")"
   ]
  },
  {
   "cell_type": "code",
   "execution_count": null,
   "id": "1a109f88",
   "metadata": {},
   "outputs": [],
   "source": [
    "prices = []\n",
    "lengths = []\n",
    "\n",
    "for datapoint in dataset:\n",
    "    try:\n",
    "        price = float(datapoint[\"price\"])\n",
    "        if price > 0:\n",
    "            prices.append(price)\n",
    "            contents = (\n",
    "                datapoint[\"title\"] +\n",
    "                str(datapoint.get(\"description\", \"\")) +\n",
    "                str(datapoint.get(\"features\", \"\")) +\n",
    "                str(datapoint.get(\"details\", \"\"))\n",
    "            )\n",
    "            lengths.append(len(contents))\n",
    "    except ValueError:\n",
    "        pass\n"
   ]
  },
  {
   "cell_type": "code",
   "execution_count": null,
   "id": "b7ac139e",
   "metadata": {},
   "outputs": [],
   "source": [
    "# Plot lengths\n",
    "plt.figure(figsize=(15, 6))\n",
    "plt.title(f\"Lengths: Avg {sum(lengths)/len(lengths):,.0f} and highest {max(lengths):,}\\n\")\n",
    "plt.xlabel('Length (chars)')\n",
    "plt.ylabel('Count')\n",
    "plt.hist(lengths, rwidth=0.7, color=\"lightblue\", bins=range(0, 6000, 100))\n",
    "plt.show()"
   ]
  },
  {
   "cell_type": "code",
   "execution_count": null,
   "id": "7710a714",
   "metadata": {},
   "outputs": [],
   "source": [
    "# Plot prices\n",
    "plt.figure(figsize=(15, 6))\n",
    "plt.title(f\"Prices: Avg {sum(prices)/len(prices):,.2f} and highest {max(prices):,}\\n\")\n",
    "plt.xlabel('Price ($)')\n",
    "plt.ylabel('Count')\n",
    "plt.hist(prices, rwidth=0.7, color=\"orange\", bins=range(0, 1000, 10))\n",
    "plt.show()"
   ]
  },
  {
   "cell_type": "code",
   "execution_count": null,
   "id": "56460a16",
   "metadata": {},
   "outputs": [],
   "source": [
    "# So what is this book??\n",
    "\n",
    "for datapoint in dataset:\n",
    "    try:\n",
    "        price = float(datapoint[\"price\"])\n",
    "        if price > 3400:\n",
    "            print(datapoint['title'])\n",
    "    except ValueError as e:\n",
    "        pass"
   ]
  },
  {
   "cell_type": "markdown",
   "id": "6dcb9a0e",
   "metadata": {},
   "source": [
    "# Data Transfroms"
   ]
  }
 ],
 "metadata": {
  "language_info": {
   "name": "python"
  }
 },
 "nbformat": 4,
 "nbformat_minor": 5
}
